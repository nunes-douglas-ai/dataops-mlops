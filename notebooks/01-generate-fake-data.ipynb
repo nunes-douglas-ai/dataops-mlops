{
 "cells": [
  {
   "cell_type": "code",
   "execution_count": 1,
   "id": "dd1e38ee-45e0-45b0-9d98-eda578bf75d3",
   "metadata": {
    "tags": []
   },
   "outputs": [],
   "source": [
    "import concurrent.futures\n",
    "import json\n",
    "\n",
    "import httpx\n",
    "import pandas as pd"
   ]
  },
  {
   "cell_type": "code",
   "execution_count": 2,
   "id": "ddedf6be-d8bc-46bb-bdfd-9987639a0e2d",
   "metadata": {
    "tags": []
   },
   "outputs": [],
   "source": [
    "sample_file = \"../extras/sample_data.tsv\""
   ]
  },
  {
   "cell_type": "code",
   "execution_count": 3,
   "id": "95c726b5-01e7-4c6d-9b88-9a94a6e2bf34",
   "metadata": {
    "tags": []
   },
   "outputs": [
    {
     "data": {
      "text/html": [
       "<div>\n",
       "<style scoped>\n",
       "    .dataframe tbody tr th:only-of-type {\n",
       "        vertical-align: middle;\n",
       "    }\n",
       "\n",
       "    .dataframe tbody tr th {\n",
       "        vertical-align: top;\n",
       "    }\n",
       "\n",
       "    .dataframe thead th {\n",
       "        text-align: right;\n",
       "    }\n",
       "</style>\n",
       "<table border=\"1\" class=\"dataframe\">\n",
       "  <thead>\n",
       "    <tr style=\"text-align: right;\">\n",
       "      <th></th>\n",
       "      <th>name</th>\n",
       "      <th>text</th>\n",
       "    </tr>\n",
       "  </thead>\n",
       "  <tbody>\n",
       "    <tr>\n",
       "      <th>0</th>\n",
       "      <td>Adônis Soares</td>\n",
       "      <td>Sinto uma dor forte na garganta ao engolir e e...</td>\n",
       "    </tr>\n",
       "    <tr>\n",
       "      <th>1</th>\n",
       "      <td>Alice</td>\n",
       "      <td>Sinto dores no corpo, dor de cabeça e febre.</td>\n",
       "    </tr>\n",
       "    <tr>\n",
       "      <th>2</th>\n",
       "      <td>Ana</td>\n",
       "      <td>Me sinto com febre há alguns dias, com dor de ...</td>\n",
       "    </tr>\n",
       "    <tr>\n",
       "      <th>3</th>\n",
       "      <td>Ana</td>\n",
       "      <td>Algo está me incomodando ultimamente. Sinto qu...</td>\n",
       "    </tr>\n",
       "    <tr>\n",
       "      <th>4</th>\n",
       "      <td>Ana</td>\n",
       "      <td>Desde ontem tô sentindo umas dores musculares ...</td>\n",
       "    </tr>\n",
       "  </tbody>\n",
       "</table>\n",
       "</div>"
      ],
      "text/plain": [
       "            name                                               text\n",
       "0  Adônis Soares  Sinto uma dor forte na garganta ao engolir e e...\n",
       "1          Alice       Sinto dores no corpo, dor de cabeça e febre.\n",
       "2            Ana  Me sinto com febre há alguns dias, com dor de ...\n",
       "3            Ana  Algo está me incomodando ultimamente. Sinto qu...\n",
       "4            Ana  Desde ontem tô sentindo umas dores musculares ..."
      ]
     },
     "execution_count": 3,
     "metadata": {},
     "output_type": "execute_result"
    }
   ],
   "source": [
    "df = pd.read_csv(sample_file, sep=\"\\t\")\n",
    "df.head()"
   ]
  },
  {
   "cell_type": "code",
   "execution_count": 4,
   "id": "831ce037-36a9-4dab-9c39-5487f78f2cf4",
   "metadata": {
    "tags": []
   },
   "outputs": [
    {
     "data": {
      "text/plain": [
       "True"
      ]
     },
     "execution_count": 4,
     "metadata": {},
     "output_type": "execute_result"
    }
   ],
   "source": [
    "def make_request(name, text):\n",
    "    url = 'http://localhost:8000/pre-diagnostic/process-diagnostic'\n",
    "    headers = {\n",
    "        'accept': 'application/json',\n",
    "        'Content-Type': 'application/json'\n",
    "    }\n",
    "    data = {\n",
    "        'name': name,\n",
    "        'text': text\n",
    "    }\n",
    "    httpx.post(url, headers=headers, data=json.dumps(data))\n",
    "    return True\n",
    "\n",
    "make_request(\"joao\", \"um teste\")"
   ]
  },
  {
   "cell_type": "code",
   "execution_count": 6,
   "id": "c347077e-2a7e-4a45-a989-849cf32fde68",
   "metadata": {
    "tags": []
   },
   "outputs": [],
   "source": [
    "def make_request_for_row(row):\n",
    "    return make_request(row['name'], row['text'])\n",
    "\n",
    "with concurrent.futures.ThreadPoolExecutor(max_workers=12) as executor:\n",
    "    executor.map(executor.map(make_request_for_row, df.to_dict('records')))\n"
   ]
  },
  {
   "cell_type": "code",
   "execution_count": null,
   "id": "24cfd457-a4e6-42f6-9a71-70050b1cb947",
   "metadata": {},
   "outputs": [],
   "source": []
  }
 ],
 "metadata": {
  "kernelspec": {
   "display_name": "Python 3 (ipykernel)",
   "language": "python",
   "name": "python3"
  },
  "language_info": {
   "codemirror_mode": {
    "name": "ipython",
    "version": 3
   },
   "file_extension": ".py",
   "mimetype": "text/x-python",
   "name": "python",
   "nbconvert_exporter": "python",
   "pygments_lexer": "ipython3",
   "version": "3.9.13"
  }
 },
 "nbformat": 4,
 "nbformat_minor": 5
}
